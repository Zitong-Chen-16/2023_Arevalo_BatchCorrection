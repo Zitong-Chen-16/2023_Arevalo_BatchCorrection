{
 "cells": [
  {
   "cell_type": "code",
   "execution_count": null,
   "id": "00ceea0f",
   "metadata": {},
   "outputs": [],
   "source": [
    "import logging\n",
    "import stats\n",
    "import plotly.express as px\n",
    "import pandas as pd\n",
    "import numpy as np\n",
    "from utils import find_meta_cols, find_feat_cols\n",
    "logging.basicConfig(format='%(levelname)s:%(asctime)s:%(name)s:%(message)s',\n",
    "                    level=logging.INFO)\n",
    "logger = logging.getLogger(__name__)"
   ]
  },
  {
   "cell_type": "code",
   "execution_count": null,
   "id": "3952b1d7",
   "metadata": {},
   "outputs": [],
   "source": [
    "# stats: statistics of negative controls for all the plates\n",
    "logger.info('Loading data')\n",
    "dframe = stats.load_profiles()\n",
    "logger.info('Removing nan and inf columns')\n",
    "dframe = stats.remove_nan_infs_columns(dframe)\n",
    "negcon = dframe.query('Metadata_JCP2022 == @stats.DMSO')\n",
    "logger.info('computing stats for negcons')\n",
    "all_neg_stats = stats.get_stats(negcon)\n",
    "logger.info('stats done.')\n",
    "stats.add_metadata(all_neg_stats, dframe[find_meta_cols(dframe)])"
   ]
  },
  {
   "cell_type": "code",
   "execution_count": null,
   "id": "491aad88",
   "metadata": {},
   "outputs": [],
   "source": []
  },
  {
   "cell_type": "code",
   "execution_count": null,
   "id": "7252acae",
   "metadata": {},
   "outputs": [],
   "source": [
    "# variant_features: features that have mad != 0 and abs_coef_var>1e-3 in every plate for negative controls.\n",
    "neg_stats = all_neg_stats.query('mad!=0 and abs_coef_var>1e-3')\n",
    "variant_features = set.intersection(*neg_stats.groupby('Metadata_Plate')['feature'].agg(set).tolist())\n",
    "variant_features = list(variant_features)\n",
    "neg_stats = neg_stats.query('feature in @variant_features')\n",
    "len(variant_features)"
   ]
  },
  {
   "cell_type": "code",
   "execution_count": null,
   "id": "28dd55be",
   "metadata": {},
   "outputs": [],
   "source": [
    "# choose neg_stats from source 6 only\n",
    "scatter = neg_stats.query('Metadata_Source==\"source_6\"')\n",
    "# family_order = neg_stats.groupby('family')['abs_coef_var'].min().sort_values().index\n",
    "family_order = (\n",
    "    scatter\n",
    "    .groupby('family')\n",
    "    .apply(lambda df: df[['mad', 'median']].max().max())\n",
    "    .sort_values(ascending=False)\n",
    "    .index\n",
    ")\n",
    "fig = px.scatter(scatter,\n",
    "                 x='median',\n",
    "                 y='mad',\n",
    "                 symbol='family',\n",
    "                 hover_name='feature',\n",
    "                 hover_data=['Metadata_Plate'],\n",
    "                 color='family',\n",
    "                 size='abs_coef_var',\n",
    "                 category_orders={'family': family_order})\n",
    "fig.update_layout(\n",
    "    coloraxis_colorbar=dict(yanchor=\"top\", y=1, x=0, ticks=\"outside\"))\n",
    "fig.update_traces(marker_sizemin=6)\n",
    "#fig.update_xaxes(tickformat='.2e')\n",
    "#fig.update_yaxes(tickformat='.2e')"
   ]
  },
  {
   "cell_type": "code",
   "execution_count": null,
   "id": "984d1fee",
   "metadata": {},
   "outputs": [],
   "source": [
    "# Compute params for MAD normalization\n",
    "mads = neg_stats.pivot(columns='feature', index='Metadata_Plate', values='mad')\n",
    "medians = neg_stats.pivot(columns='feature', index='Metadata_Plate', values='median')"
   ]
  },
  {
   "cell_type": "code",
   "execution_count": null,
   "id": "3508878d",
   "metadata": {},
   "outputs": [],
   "source": [
    "# Get normalized features with epsilon = 0 for all plates that have MAD stats\n",
    "feats = dframe.query('Metadata_Plate in @mads.index')\n",
    "fnorm = (feats.set_index('Metadata_Plate')[mads.columns] - medians) / mads\n",
    "fnorm.reset_index(drop=True, inplace=True)\n",
    "for c in find_meta_cols(feats):\n",
    "    fnorm[c] = feats[c].values"
   ]
  },
  {
   "cell_type": "code",
   "execution_count": null,
   "id": "1b2c2bae",
   "metadata": {},
   "outputs": [],
   "source": [
    "# Get stats for normalized features\n",
    "desc = fnorm[variant_features].describe()"
   ]
  },
  {
   "cell_type": "code",
   "execution_count": null,
   "id": "0d02f555",
   "metadata": {},
   "outputs": [],
   "source": [
    "# Features binned w.r.t. the highest values\n",
    "pd.qcut(desc.T['max'], 50).value_counts().sort_index()"
   ]
  },
  {
   "cell_type": "code",
   "execution_count": null,
   "id": "3716134b",
   "metadata": {},
   "outputs": [],
   "source": [
    "# Top-40 features with the largest values\n",
    "desc.T.sort_values(by='max', ascending=False).head(40)"
   ]
  },
  {
   "cell_type": "code",
   "execution_count": null,
   "id": "3c2f49a4",
   "metadata": {},
   "outputs": [],
   "source": [
    "# Identify the values for the outlier column\n",
    "outlier_col = 'Nuclei_Texture_SumVariance_DNA_5_00_256'\n",
    "outlier = fnorm.sort_values(by=[outlier_col]).iloc[-1]\n",
    "outlier[find_meta_cols(outlier.index)]"
   ]
  },
  {
   "cell_type": "code",
   "execution_count": null,
   "id": "d0842d54",
   "metadata": {},
   "outputs": [],
   "source": [
    "# Binning the features of the sample that has the highest value\n",
    "pd.qcut(outlier[variant_features].astype(np.float32), 30).value_counts().sort_index()"
   ]
  },
  {
   "cell_type": "code",
   "execution_count": null,
   "id": "f5584ec2",
   "metadata": {},
   "outputs": [],
   "source": [
    "# Raw value\n",
    "dframe.query((\n",
    "    'Metadata_Source == @outlier.Metadata_Source and '\n",
    "    'Metadata_Plate == @outlier.Metadata_Plate and '\n",
    "    'Metadata_Well == @outlier.Metadata_Well'))[outlier_col]"
   ]
  },
  {
   "cell_type": "code",
   "execution_count": null,
   "id": "77acbaaa",
   "metadata": {},
   "outputs": [],
   "source": [
    "# Stats for the raw values of negative controls in the plate\n",
    "negcon.query('Metadata_Plate==@outlier.Metadata_Plate')[outlier_col].describe()"
   ]
  },
  {
   "cell_type": "code",
   "execution_count": null,
   "id": "d3961b48",
   "metadata": {},
   "outputs": [],
   "source": [
    "# Stats for the raw values of all values in the plate\n",
    "dframe.query('Metadata_Plate==@outlier.Metadata_Plate')[outlier_col].describe()"
   ]
  },
  {
   "cell_type": "code",
   "execution_count": null,
   "id": "ff467555",
   "metadata": {},
   "outputs": [],
   "source": [
    "# Top-10 highest raw values for the column in the plate\n",
    "dframe.query('Metadata_Plate==@outlier.Metadata_Plate')[outlier_col].sort_values()[-10:]"
   ]
  },
  {
   "cell_type": "code",
   "execution_count": null,
   "id": "8c79db8c",
   "metadata": {},
   "outputs": [],
   "source": [
    "# Identify the median values for the outlier column\n",
    "median_sample = fnorm.sort_values(by=[outlier_col]).iloc[len(fnorm)//2]\n",
    "median_sample[find_meta_cols(median_sample.index)]"
   ]
  },
  {
   "cell_type": "code",
   "execution_count": null,
   "id": "f767701e",
   "metadata": {},
   "outputs": [],
   "source": [
    "# scatter plot for outlier features\n",
    "features_max_1e5 = desc.T.sort_values(by='max', ascending=False).head(40).index\n",
    "fig = px.scatter(scatter.query('feature in @features_max_1e5'),\n",
    "                 x='median',\n",
    "                 y='mad',\n",
    "                 symbol='family',\n",
    "                 hover_name='feature',\n",
    "                 hover_data=['Metadata_Plate'],\n",
    "                 color='family',\n",
    "                 size='abs_coef_var',\n",
    "                 category_orders={'family': family_order})\n",
    "fig.update_layout(\n",
    "    coloraxis_colorbar=dict(yanchor=\"top\", y=1, x=0, ticks=\"outside\"))\n",
    "fig.update_traces(marker_sizemin=6)"
   ]
  },
  {
   "cell_type": "code",
   "execution_count": null,
   "id": "b8d9f014",
   "metadata": {},
   "outputs": [],
   "source": [
    "neg_stats.query('Metadata_Plate==@outlier.Metadata_Plate and feature==@outlier_col').T"
   ]
  },
  {
   "cell_type": "code",
   "execution_count": null,
   "id": "e35b60f9",
   "metadata": {},
   "outputs": [],
   "source": []
  }
 ],
 "metadata": {
  "kernelspec": {
   "display_name": "Python 3 (ipykernel)",
   "language": "python",
   "name": "python3"
  },
  "language_info": {
   "codemirror_mode": {
    "name": "ipython",
    "version": 3
   },
   "file_extension": ".py",
   "mimetype": "text/x-python",
   "name": "python",
   "nbconvert_exporter": "python",
   "pygments_lexer": "ipython3",
   "version": "3.10.9"
  }
 },
 "nbformat": 4,
 "nbformat_minor": 5
}
